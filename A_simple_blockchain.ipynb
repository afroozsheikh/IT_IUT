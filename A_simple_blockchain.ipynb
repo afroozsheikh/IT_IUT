{
  "nbformat": 4,
  "nbformat_minor": 0,
  "metadata": {
    "colab": {
      "name": "A_simple_blockchain.ipynb",
      "provenance": [],
      "collapsed_sections": [],
      "toc_visible": true,
      "authorship_tag": "ABX9TyPJskHTSlUIvPnOIN9jt7b4",
      "include_colab_link": true
    },
    "kernelspec": {
      "name": "python3",
      "display_name": "Python 3"
    },
    "language_info": {
      "name": "python"
    }
  },
  "cells": [
    {
      "cell_type": "markdown",
      "metadata": {
        "id": "view-in-github",
        "colab_type": "text"
      },
      "source": [
        "<a href=\"https://colab.research.google.com/github/afroozsheikh/IT_IUT/blob/main/A_simple_blockchain.ipynb\" target=\"_parent\"><img src=\"https://colab.research.google.com/assets/colab-badge.svg\" alt=\"Open In Colab\"/></a>"
      ]
    },
    {
      "cell_type": "markdown",
      "metadata": {
        "id": "aRA5iDADvL0i"
      },
      "source": [
        "## Importing libraries"
      ]
    },
    {
      "cell_type": "code",
      "metadata": {
        "id": "y1K9CtZZ5Ooa"
      },
      "source": [
        "import hashlib\n",
        "import json"
      ],
      "execution_count": null,
      "outputs": []
    },
    {
      "cell_type": "markdown",
      "metadata": {
        "id": "PA6gg2drvPKx"
      },
      "source": [
        "## Defining Block Class"
      ]
    },
    {
      "cell_type": "code",
      "metadata": {
        "id": "vk__usaXoSVe"
      },
      "source": [
        "class Block:\n",
        "    def __init__(self, index, transactions, previous_hash, nonce=0):\n",
        "        self.block_num = index\n",
        "        self.transactions = transactions\n",
        "        self.previous_hash = previous_hash\n",
        "        self.nonce = nonce\n",
        "\n",
        "    def hash(self):\n",
        "        h = hashlib.sha256()\n",
        "        h.update(\n",
        "        str(self.transactions).encode('utf-8') +\n",
        "        str(self.previous_hash).encode('utf-8')  +\n",
        "        str(self.nonce).encode('utf-8'))\n",
        "        return h.hexdigest()\n",
        "\n",
        "    def __str__(self):\n",
        "        return \"\\nBlock Number: \" + str(self.block_num) + \"\\nBlock Hash: \" + str(self.hash()) + \"\\nHash of the Previous Block: \" + str(self.previous_hash) + \"\\nNonce: \" + str(self.nonce) + \"\\n\\n===================================================================================\\n\"\n",
        "\n"
      ],
      "execution_count": null,
      "outputs": []
    },
    {
      "cell_type": "markdown",
      "metadata": {
        "id": "TaR7Z4g-vTQX"
      },
      "source": [
        "## Genesis Block"
      ]
    },
    {
      "cell_type": "code",
      "metadata": {
        "id": "QGt9Eke1Taeb"
      },
      "source": [
        "chain = []"
      ],
      "execution_count": null,
      "outputs": []
    },
    {
      "cell_type": "code",
      "metadata": {
        "id": "RO3AHidRuTgv"
      },
      "source": [
        "f = open('GenesisBlock.json',)\n",
        "genesis1 = json.load(f)\n",
        "h = hashlib.sha256()\n",
        "h.update(str(genesis1).encode())  \n",
        "hash_genesis = h.hexdigest()"
      ],
      "execution_count": null,
      "outputs": []
    },
    {
      "cell_type": "markdown",
      "metadata": {
        "id": "5UuutPU43RUI"
      },
      "source": [
        "## Mining"
      ]
    },
    {
      "cell_type": "code",
      "metadata": {
        "id": "yo7wonNRSUr6"
      },
      "source": [
        "def mine(block):\n",
        "    str1 = 'Math_Problem_Number' + str(block.block_num) + '.json'\n",
        "    f = open(str1,)\n",
        "    xx = json.load(f)\n",
        "    for i in range(2**32):\n",
        "      if block.hash()[-4:] == str(xx['mathProblem']):\n",
        "        print('solved!')\n",
        "        print(block.nonce)\n",
        "        chain.append(block)\n",
        "        break\n",
        "      else:\n",
        "        block.nonce += 1"
      ],
      "execution_count": null,
      "outputs": []
    },
    {
      "cell_type": "markdown",
      "metadata": {
        "id": "nHtrWKXerJSB"
      },
      "source": [
        "## First Block!"
      ]
    },
    {
      "cell_type": "code",
      "metadata": {
        "id": "xCodGA_GrI-h",
        "colab": {
          "base_uri": "https://localhost:8080/"
        },
        "outputId": "befb618f-f3c9-4ec0-913b-614fe7e79414"
      },
      "source": [
        "f = open('Ledger_Number2.json',)\n",
        "block1 = json.load(f)\n",
        "Block_1 = Block(2, block1, hash_genesis, 0)\n",
        "mine(Block_1)\n"
      ],
      "execution_count": null,
      "outputs": [
        {
          "output_type": "stream",
          "text": [
            "solved!\n",
            "16220\n"
          ],
          "name": "stdout"
        }
      ]
    },
    {
      "cell_type": "markdown",
      "metadata": {
        "id": "N9A_oxANvbEQ"
      },
      "source": [
        "## The BlockChain"
      ]
    },
    {
      "cell_type": "code",
      "metadata": {
        "colab": {
          "base_uri": "https://localhost:8080/"
        },
        "id": "n-QGXyCbMzPR",
        "outputId": "c60df9e7-0a08-4448-9f21-f5d6ab6c90cc"
      },
      "source": [
        "for n in range(3, 11):\n",
        "    str2 = 'Ledger_Number' + str(n) + '.json'\n",
        "    f = open(str2,)\n",
        "    my_ledger = json.load(f)\n",
        "    bb = Block(n, my_ledger, chain[-1].hash(), 0)\n",
        "    mine(bb)"
      ],
      "execution_count": null,
      "outputs": [
        {
          "output_type": "stream",
          "text": [
            "solved!\n",
            "75306\n",
            "solved!\n",
            "67821\n",
            "solved!\n",
            "40743\n",
            "solved!\n",
            "95726\n",
            "solved!\n",
            "290458\n",
            "solved!\n",
            "25766\n",
            "solved!\n",
            "68212\n",
            "solved!\n",
            "34965\n"
          ],
          "name": "stdout"
        }
      ]
    },
    {
      "cell_type": "code",
      "metadata": {
        "id": "voPaozrjRc9l",
        "colab": {
          "base_uri": "https://localhost:8080/"
        },
        "outputId": "af5dde81-600f-4d89-db39-15be25cfd668"
      },
      "source": [
        "for block in chain:\n",
        "  print(block.__str__())"
      ],
      "execution_count": null,
      "outputs": [
        {
          "output_type": "stream",
          "text": [
            "\n",
            "Block Number: 2\n",
            "Block Hash: 69c2817bfbf5168b379c61871f82dba903ce9937059ef5f2ef316142b91b1239\n",
            "Hash of the Previous Block: e63a1686039d9ba66613833d343bea50013c3ebc30fa737c792fd61d926c76ce\n",
            "Nonce: 16220\n",
            "\n",
            "===================================================================================\n",
            "\n",
            "\n",
            "Block Number: 3\n",
            "Block Hash: 1ed95698df696bdb5aec74ef96a81875d7cb09f0fbf6664d365b31937c5e2357\n",
            "Hash of the Previous Block: 69c2817bfbf5168b379c61871f82dba903ce9937059ef5f2ef316142b91b1239\n",
            "Nonce: 75306\n",
            "\n",
            "===================================================================================\n",
            "\n",
            "\n",
            "Block Number: 4\n",
            "Block Hash: 92642d336e79c45f51bce26747165293b147b2c4d16920bbc498916ae8f99275\n",
            "Hash of the Previous Block: 1ed95698df696bdb5aec74ef96a81875d7cb09f0fbf6664d365b31937c5e2357\n",
            "Nonce: 67821\n",
            "\n",
            "===================================================================================\n",
            "\n",
            "\n",
            "Block Number: 5\n",
            "Block Hash: 6f1c6b36bae8970b4b61b195975786ec0e01fb727bad4aec6476230b817e8992\n",
            "Hash of the Previous Block: 92642d336e79c45f51bce26747165293b147b2c4d16920bbc498916ae8f99275\n",
            "Nonce: 40743\n",
            "\n",
            "===================================================================================\n",
            "\n",
            "\n",
            "Block Number: 6\n",
            "Block Hash: 1bda7cb7fc03f42d212b04173786ed751211c7627252d3600347550f6ae58882\n",
            "Hash of the Previous Block: 6f1c6b36bae8970b4b61b195975786ec0e01fb727bad4aec6476230b817e8992\n",
            "Nonce: 95726\n",
            "\n",
            "===================================================================================\n",
            "\n",
            "\n",
            "Block Number: 7\n",
            "Block Hash: a4d4caa0dbe310e16c3fc0038bfe0e47470899da5e1e6ab49f0db199a84f9923\n",
            "Hash of the Previous Block: 1bda7cb7fc03f42d212b04173786ed751211c7627252d3600347550f6ae58882\n",
            "Nonce: 290458\n",
            "\n",
            "===================================================================================\n",
            "\n",
            "\n",
            "Block Number: 8\n",
            "Block Hash: 0f141ef1d1f11593b10531debd16fc98a58364cf970f2b4bed8211709a765555\n",
            "Hash of the Previous Block: a4d4caa0dbe310e16c3fc0038bfe0e47470899da5e1e6ab49f0db199a84f9923\n",
            "Nonce: 25766\n",
            "\n",
            "===================================================================================\n",
            "\n",
            "\n",
            "Block Number: 9\n",
            "Block Hash: 829a63d3c61086c112d7fb012eba8a6e9414e1285506f275fefe845448e11934\n",
            "Hash of the Previous Block: 0f141ef1d1f11593b10531debd16fc98a58364cf970f2b4bed8211709a765555\n",
            "Nonce: 68212\n",
            "\n",
            "===================================================================================\n",
            "\n",
            "\n",
            "Block Number: 10\n",
            "Block Hash: ee29061b066341958fe50b60cac1da6b1c5bed78fe90ea8291ee6837bdff1000\n",
            "Hash of the Previous Block: 829a63d3c61086c112d7fb012eba8a6e9414e1285506f275fefe845448e11934\n",
            "Nonce: 34965\n",
            "\n",
            "===================================================================================\n",
            "\n"
          ],
          "name": "stdout"
        }
      ]
    },
    {
      "cell_type": "markdown",
      "metadata": {
        "id": "46cC2wsC-jra"
      },
      "source": [
        "## 11th Block"
      ]
    },
    {
      "cell_type": "code",
      "metadata": {
        "colab": {
          "base_uri": "https://localhost:8080/"
        },
        "id": "dJieUTfH-laB",
        "outputId": "b41ddc3b-126b-49c1-c58a-ae8ab1742068"
      },
      "source": [
        "f = open('Ledger_Number11.json',)\n",
        "block11 = json.load(f)\n",
        "Block_11 = Block(11, block11, chain[-1].hash(), 0)\n",
        "\n",
        "str3 = 'Math_Problem_Number' + '11' + '.json'\n",
        "f1 = open(str3,)\n",
        "xx1 = json.load(f1)\n",
        "for i in range(2**32):\n",
        "  if Block_11.hash()[-7:] == str(xx1['mathProblem']):\n",
        "    print('solved!')\n",
        "    print(Block_11.nonce)\n",
        "    break\n",
        "  else:\n",
        "    Block_11.nonce += 1\n"
      ],
      "execution_count": null,
      "outputs": [
        {
          "output_type": "stream",
          "text": [
            "solved!\n",
            "115161023\n"
          ],
          "name": "stdout"
        }
      ]
    },
    {
      "cell_type": "code",
      "metadata": {
        "colab": {
          "base_uri": "https://localhost:8080/"
        },
        "id": "wRUHdDvg_LPl",
        "outputId": "87aeb2d6-d5a8-4139-81ff-1a18e7485d76"
      },
      "source": [
        "print(Block_11.__str__())"
      ],
      "execution_count": null,
      "outputs": [
        {
          "output_type": "stream",
          "text": [
            "\n",
            "Block Number: 11\n",
            "Block Hash: 92d76ee856f1eed44c79334668799b345e9fc10d0c1df9f0efd04a5759998889\n",
            "Hash of the Previous Block: ee29061b066341958fe50b60cac1da6b1c5bed78fe90ea8291ee6837bdff1000\n",
            "Nonce: 115161023\n",
            "\n",
            "===================================================================================\n",
            "\n"
          ],
          "name": "stdout"
        }
      ]
    },
    {
      "cell_type": "code",
      "metadata": {
        "id": "qymysrM7CBLx"
      },
      "source": [
        "chain.append(Block_11)"
      ],
      "execution_count": null,
      "outputs": []
    },
    {
      "cell_type": "code",
      "metadata": {
        "colab": {
          "base_uri": "https://localhost:8080/"
        },
        "id": "akApnEOeI3Jv",
        "outputId": "fab82802-0fae-48ee-d8d4-9bd5a2557c4c"
      },
      "source": [
        "for i in chain:\n",
        "  print(i.__str__())"
      ],
      "execution_count": null,
      "outputs": [
        {
          "output_type": "stream",
          "text": [
            "\n",
            "Block Number: 2\n",
            "Block Hash: 69c2817bfbf5168b379c61871f82dba903ce9937059ef5f2ef316142b91b1239\n",
            "Hash of the Previous Block: e63a1686039d9ba66613833d343bea50013c3ebc30fa737c792fd61d926c76ce\n",
            "Nonce: 16220\n",
            "\n",
            "===================================================================================\n",
            "\n",
            "\n",
            "Block Number: 3\n",
            "Block Hash: 1ed95698df696bdb5aec74ef96a81875d7cb09f0fbf6664d365b31937c5e2357\n",
            "Hash of the Previous Block: 69c2817bfbf5168b379c61871f82dba903ce9937059ef5f2ef316142b91b1239\n",
            "Nonce: 75306\n",
            "\n",
            "===================================================================================\n",
            "\n",
            "\n",
            "Block Number: 4\n",
            "Block Hash: 92642d336e79c45f51bce26747165293b147b2c4d16920bbc498916ae8f99275\n",
            "Hash of the Previous Block: 1ed95698df696bdb5aec74ef96a81875d7cb09f0fbf6664d365b31937c5e2357\n",
            "Nonce: 67821\n",
            "\n",
            "===================================================================================\n",
            "\n",
            "\n",
            "Block Number: 5\n",
            "Block Hash: 6f1c6b36bae8970b4b61b195975786ec0e01fb727bad4aec6476230b817e8992\n",
            "Hash of the Previous Block: 92642d336e79c45f51bce26747165293b147b2c4d16920bbc498916ae8f99275\n",
            "Nonce: 40743\n",
            "\n",
            "===================================================================================\n",
            "\n",
            "\n",
            "Block Number: 6\n",
            "Block Hash: 1bda7cb7fc03f42d212b04173786ed751211c7627252d3600347550f6ae58882\n",
            "Hash of the Previous Block: 6f1c6b36bae8970b4b61b195975786ec0e01fb727bad4aec6476230b817e8992\n",
            "Nonce: 95726\n",
            "\n",
            "===================================================================================\n",
            "\n",
            "\n",
            "Block Number: 7\n",
            "Block Hash: a4d4caa0dbe310e16c3fc0038bfe0e47470899da5e1e6ab49f0db199a84f9923\n",
            "Hash of the Previous Block: 1bda7cb7fc03f42d212b04173786ed751211c7627252d3600347550f6ae58882\n",
            "Nonce: 290458\n",
            "\n",
            "===================================================================================\n",
            "\n",
            "\n",
            "Block Number: 8\n",
            "Block Hash: 0f141ef1d1f11593b10531debd16fc98a58364cf970f2b4bed8211709a765555\n",
            "Hash of the Previous Block: a4d4caa0dbe310e16c3fc0038bfe0e47470899da5e1e6ab49f0db199a84f9923\n",
            "Nonce: 25766\n",
            "\n",
            "===================================================================================\n",
            "\n",
            "\n",
            "Block Number: 9\n",
            "Block Hash: 829a63d3c61086c112d7fb012eba8a6e9414e1285506f275fefe845448e11934\n",
            "Hash of the Previous Block: 0f141ef1d1f11593b10531debd16fc98a58364cf970f2b4bed8211709a765555\n",
            "Nonce: 68212\n",
            "\n",
            "===================================================================================\n",
            "\n",
            "\n",
            "Block Number: 10\n",
            "Block Hash: ee29061b066341958fe50b60cac1da6b1c5bed78fe90ea8291ee6837bdff1000\n",
            "Hash of the Previous Block: 829a63d3c61086c112d7fb012eba8a6e9414e1285506f275fefe845448e11934\n",
            "Nonce: 34965\n",
            "\n",
            "===================================================================================\n",
            "\n",
            "\n",
            "Block Number: 11\n",
            "Block Hash: 92d76ee856f1eed44c79334668799b345e9fc10d0c1df9f0efd04a5759998889\n",
            "Hash of the Previous Block: ee29061b066341958fe50b60cac1da6b1c5bed78fe90ea8291ee6837bdff1000\n",
            "Nonce: 115161023\n",
            "\n",
            "===================================================================================\n",
            "\n"
          ],
          "name": "stdout"
        }
      ]
    },
    {
      "cell_type": "code",
      "metadata": {
        "id": "jkYWQWfKJK5B"
      },
      "source": [
        ""
      ],
      "execution_count": null,
      "outputs": []
    }
  ]
}